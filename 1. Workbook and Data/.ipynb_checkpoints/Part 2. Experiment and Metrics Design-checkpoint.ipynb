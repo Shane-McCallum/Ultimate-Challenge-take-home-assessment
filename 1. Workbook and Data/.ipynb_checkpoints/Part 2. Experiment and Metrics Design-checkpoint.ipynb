{
 "cells": [
  {
   "cell_type": "markdown",
   "metadata": {},
   "source": [
    "# Data Analysis Take Home Assessment"
   ]
  },
  {
   "cell_type": "markdown",
   "metadata": {},
   "source": [
    "## Part 2. Experiment and Metrics Design\n",
    "\n",
    "#### Premise:\n",
    "\n",
    "The neighboring cities of Gotham and Metropolis have complementary circadian rhythms: on weekdays, Ultimate Gotham is most active at night, and Ultimate Metropolis is most active during the day. On weekends, there is reasonable activity in both cities. \n",
    "\n",
    "However, a toll bridge, with a two way toll, between the two cities causes driver partners to tend to be exclusive to each city. The Ultimate managers of city operations for the two cities have proposed an experiment to encourage driver partners to be available in both cities, by reimbursing all toll costs."
   ]
  },
  {
   "cell_type": "markdown",
   "metadata": {},
   "source": [
    "## 1. What would you choose as the key measure of success of this experiment in encouraging driver partners to serve both cities, and why would you choose this metric?¶\n",
    "\n",
    "The key metric in measuring the success of the experiment would be the number of trips a driver takes to the opposite city. If the experiment is successful, then one would expect to see:\n",
    "\n",
    "1. Drivers from Gotham taking significantly more trips to Metropolis and increasing driver activity during the evening in Metropolis; and,\n",
    "\n",
    "2. Drivers from Metropolis taking significantly more trips to Gotham and increasing driver activity during the day in Gotham.\n",
    "\n",
    "Hypothetically, if we randomly choose either city, culminate all of the drivers over the course of a 24 hour period that were in that city, and randomly select a driver from that list, a successful experiment would suggest that we would observe a ratio close to 0.5 of which of the two cities that driver hails from.\n",
    "\n",
    "Now, there are several possible factors  that would effect this, such as demand within each respective city for the driver partners. However, as accessibility and incentive increases, demand would likely increase as well."
   ]
  },
  {
   "cell_type": "markdown",
   "metadata": {},
   "source": [
    "###  2. Describe a practical experiment you would design to compare the effectiveness of the proposed change in relation to the key measure of success. Please provide details on:\n",
    "\n",
    "1. How you will implement the experiment\n",
    "2. What statistical test(s) you will conduct to verify the significance of the observation\n",
    "3. How you would interpret the results and provide recommendations to the city operations team along with any caveats."
   ]
  },
  {
   "cell_type": "markdown",
   "metadata": {},
   "source": [
    "1. Implementation:\n",
    "\n",
    "Theoretically, a great test for this would be an A/B test; comparing the ratio of pre-experiment trips from drivers to the opposite city with the experiment trips. So;\n",
    "\n",
    "Hypothesis: By reimbursing all toll costs for their drivers, Ultimate will see more drivers active in the opposite city with a driver ratio (r) between Gotham and Metropolis drivers approaching an even split throughout the day. This will be measured as total trips for drivers each day (T).\n",
    "\n",
    "Null Hypothesis: Reimbursing toll cost  for drivers will have no change in total trips for Gotham and Metropolis drivers to opposite city (T) and the driver ratio (r) between the two will not change significantly (p=0.05).\n",
    "\n",
    "2. The Statistical Test used:\n",
    "\n",
    "In order to properly test the amount of change, the observed value for r would have to be calculated for an equivalent time frame of the experiment prior to it being conducted. Then the observed test  value of the experiment would need to be collected and compared. \n",
    "\n",
    "There are many ways of testing the two values of r against one another; however a random sample permutation test for significance of sample days and the value of r on each over the course of 1000 times would work. Calculating the average and z-score for the test would then allow for the actual test data's r to be compare against the permutation data. This would demonstrate if the test value for r is significantly different than the 1000  permutations data. If the test p-value is not significant, then the null hypothesis would be true and I would reject the test hypothesis.\n",
    "\n",
    "3. Interpreting Results and Recommendations:\n",
    "\n",
    "However, the test may still not be worth the cost to Ultimate Technologies. Even if the ratio of drivers in each city improves and balances out, this doesn't mean that the revenue negates the expenses of paying for the toll costs. Every time a Metropolis/Gotham driver goes across the bridge to the other city, they have to also return. That means every trip across and back incurs two tolls. This might need to be included in the rate/charge per customer, and if this becomes to expensive then customers may choose to forego the service, and there will be reduced profit and increased expenses.\n",
    "\n",
    "I would recommend implementing a price model that desperses the offset of the toll reimbursments across all rider charges."
   ]
  },
  {
   "cell_type": "code",
   "execution_count": null,
   "metadata": {},
   "outputs": [],
   "source": []
  }
 ],
 "metadata": {
  "kernelspec": {
   "display_name": "Python 3",
   "language": "python",
   "name": "python3"
  },
  "language_info": {
   "codemirror_mode": {
    "name": "ipython",
    "version": 3
   },
   "file_extension": ".py",
   "mimetype": "text/x-python",
   "name": "python",
   "nbconvert_exporter": "python",
   "pygments_lexer": "ipython3",
   "version": "3.8.5"
  }
 },
 "nbformat": 4,
 "nbformat_minor": 4
}
